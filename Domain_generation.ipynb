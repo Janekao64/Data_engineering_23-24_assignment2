{
 "cells": [
  {
   "cell_type": "code",
   "execution_count": 1,
   "id": "95c8dd94-7c19-43b9-930c-30856a8aedfd",
   "metadata": {},
   "outputs": [],
   "source": [
    "from pyspark.conf import SparkConf\n",
    "from pyspark.context import SparkContext\n",
    "from pyspark.sql import SparkSession\n",
    "import random\n",
    "from random import randint\n",
    "from pyspark.sql import functions as f\n",
    "from pyspark.sql.types import StringType\n"
   ]
  },
  {
   "cell_type": "code",
   "execution_count": 3,
   "id": "4e4e4fa5-0d9a-4741-9583-54e3c4678652",
   "metadata": {},
   "outputs": [],
   "source": [
    "spark_conf = (\n",
    "SparkConf()\n",
    ".set(\"spark.jars.packages\", 'org.apache.hadoop:hadoop-client:3.3.4,org.apache.hadoop:hadoop-aws:3.3.4')\n",
    ".set(\"spark.driver.memory\", \"6g\")\n",
    ".set(\"spark.hadoop.fs.s3a.endpoint\", \"minio:9000\")\n",
    ".set(\"spark.hadoop.fs.s3a.access.key\", \"0AkJFIkokNT5VVeXLP0T\")\n",
    ".set(\"spark.hadoop.fs.s3a.secret.key\",\"hNSiPnSFteuiOhZJXAaatsNkx8Z65C1AOvXXQvYm\" )\n",
    ".set(\"spark.hadoop.fs.s3a.path.style.access\", \"true\")\n",
    ".set(\"spark.hadoop.fs.s3a.impl\", \"org.apache.hadoop.fs.s3a.S3AFileSystem\")\n",
    ".set('spark.hadoop.fs.s3a.aws.credentials.provider', 'org.apache.hadoop.fs.s3a.SimpleAWSCredentialsProvider')\n",
    ".set(\"spark.hadoop.fs.s3a.connection.ssl.enabled\", \"false\")\n",
    ")\n",
    "sc = SparkContext.getOrCreate(spark_conf)\n",
    "spark = SparkSession(sc)"
   ]
  },
  {
   "cell_type": "code",
   "execution_count": 4,
   "id": "357000d8-8627-4d82-bbc3-63fb80e72073",
   "metadata": {},
   "outputs": [
    {
     "name": "stdout",
     "output_type": "stream",
     "text": [
      "Hadoop version = 3.3.4\n"
     ]
    }
   ],
   "source": [
    " print(f\"Hadoop version = {sc._jvm.org.apache.hadoop.util.VersionInfo.getVersion()}\")"
   ]
  },
  {
   "cell_type": "code",
   "execution_count": 5,
   "id": "08c15fd7-ba27-461a-8e9b-c241e9879d38",
   "metadata": {},
   "outputs": [],
   "source": [
    "N=10000\n",
    "M=12500\n",
    "K=150\n",
    "\n",
    "documentCurrency = [\"EUR\", \"USD\", \"JPY\", \"GBR\", \"CHF\"]\n",
    "documentService = [\"Tax\", \"Rent\", \"Loan\", \"Insurance\", \"Utility\"]\n",
    "\n",
    "from random import randint\n",
    "from datetime import datetime,timedelta\n",
    "def invoiceGenerator(k=5):\n",
    "  postingDate = datetime(2022,1,1)+timedelta(randint(0,200))\n",
    "  return {\n",
    "          \"customerId\":\"Customer_{customerId}\".format(customerId=str(randint(0,k)+1).zfill(3)),\n",
    "          \"amount\":randint(50,10000),\n",
    "          \"documentCurrency\":random.choice(documentCurrency), \n",
    "          \"postingDate\":postingDate.strftime(\"%Y-%m-%d\"),\n",
    "          \"dueDate\":(postingDate+timedelta(randint(0,60))).strftime(\"%Y-%m-%d\"),\n",
    "          \"fiscalYear\":postingDate.strftime(\"%Y\"),\n",
    "          \"documentService\":random.choice(documentService)\n",
    "         }\n",
    "\n",
    "def invoiceList(k=5,n=1000):\n",
    "  rawInvoiceList = [invoiceGenerator(k) for k in range(n)]\n",
    "  rawInvoiceList.sort(key=lambda row: row.get(\"postingDate\"))\n",
    "  for pos,val in enumerate(rawInvoiceList):\n",
    "    val[\"documentNumber\"]=\"2022-{docNum}\".format(docNum=str(pos).zfill(5))\n",
    "  return rawInvoiceList\n",
    "  \n",
    "myInvoiceList = invoiceList(K,N)"
   ]
  },
  {
   "cell_type": "code",
   "execution_count": 6,
   "id": "84dde8a0-9af3-4223-aff8-ed0302388dc9",
   "metadata": {},
   "outputs": [],
   "source": [
    "def paymentGenerator(paymentList):\n",
    "  documentNumber = \"2022-{docNum}\".format(docNum=str(randint(0,len(paymentList)-1)).zfill(5))\n",
    "  payment = [k for k in paymentList if k.get(\"documentNumber\")==documentNumber][0]\n",
    "  postingDate = datetime.strptime(payment.get(\"postingDate\"),\"%Y-%m-%d\")\n",
    "  return { \n",
    "          \"documentNumber\":documentNumber,\n",
    "          \"paymentDate\":(postingDate+timedelta(randint(15,90))).strftime(\"%Y-%m-%d\"),\n",
    "          \"valuePaid\":randint(1,payment.get(\"amount\")),\n",
    "          \"documentCurrency\":payment.get(\"documentCurrency\")\n",
    "         }\n",
    "\n",
    "\n",
    "def paymentList(paymentList,m=250):\n",
    "  return [paymentGenerator(paymentList) for k in range(m)]\n",
    "   \n",
    "myPaymentList = paymentList(myInvoiceList,M)  "
   ]
  },
  {
   "cell_type": "code",
   "execution_count": 7,
   "id": "f72ed5de-35c0-4059-aac6-35cb1f919893",
   "metadata": {},
   "outputs": [
    {
     "data": {
      "text/plain": [
       "ParallelCollectionRDD[0] at readRDDFromFile at PythonRDD.scala:289"
      ]
     },
     "execution_count": 7,
     "metadata": {},
     "output_type": "execute_result"
    }
   ],
   "source": [
    "invoice_rdd = sc.parallelize(myInvoiceList)\n",
    "invoice_rdd"
   ]
  },
  {
   "cell_type": "code",
   "execution_count": 8,
   "id": "01ed31c5-0047-40bd-a608-1fae4be37e37",
   "metadata": {},
   "outputs": [
    {
     "data": {
      "text/plain": [
       "ParallelCollectionRDD[1] at readRDDFromFile at PythonRDD.scala:289"
      ]
     },
     "execution_count": 8,
     "metadata": {},
     "output_type": "execute_result"
    }
   ],
   "source": [
    "payment_rdd = sc.parallelize(myPaymentList)\n",
    "payment_rdd"
   ]
  },
  {
   "cell_type": "code",
   "execution_count": 13,
   "id": "89222131-f286-45c4-8c21-1e0b55eae32a",
   "metadata": {},
   "outputs": [
    {
     "name": "stdout",
     "output_type": "stream",
     "text": [
      "root\n",
      " |-- value: long (nullable = true)\n",
      " |-- customerId: string (nullable = true)\n",
      " |-- documentCurrency: string (nullable = true)\n",
      " |-- documentNumber: string (nullable = true)\n",
      " |-- documentService: string (nullable = true)\n",
      " |-- dueDate: string (nullable = true)\n",
      " |-- fiscalYear: string (nullable = true)\n",
      " |-- postingDate: string (nullable = true)\n",
      "\n"
     ]
    }
   ],
   "source": [
    "columns = ['value', 'customerId', 'documentCurrency', 'documentNumber', 'documentService', 'dueDate', 'fiscalYear', 'postingDate']\n",
    "invoice_df = invoice_rdd.toDF(columns)\n",
    "invoice_df.printSchema()"
   ]
  },
  {
   "cell_type": "code",
   "execution_count": 10,
   "id": "c5389260-fd67-435b-a6c9-f1cd3c419f72",
   "metadata": {},
   "outputs": [
    {
     "data": {
      "text/plain": [
       "Row(customerNum=7939, customerId='Customer_038', documentCurrency='JPY', documentNumber='2022-00000', documentService='Utility', dueDate='2022-02-07', fiscalYear='2022', postingDate='2022-01-01')"
      ]
     },
     "execution_count": 10,
     "metadata": {},
     "output_type": "execute_result"
    }
   ],
   "source": [
    "invoice_df.first()"
   ]
  },
  {
   "cell_type": "code",
   "execution_count": 11,
   "id": "6f4ee9f8-d6de-4ad4-bfca-ccc110c3d13d",
   "metadata": {
    "scrolled": true
   },
   "outputs": [
    {
     "name": "stdout",
     "output_type": "stream",
     "text": [
      "root\n",
      " |-- documentCurrency: string (nullable = true)\n",
      " |-- documentNumber: string (nullable = true)\n",
      " |-- paymentDate: string (nullable = true)\n",
      " |-- valuePaid: long (nullable = true)\n",
      "\n"
     ]
    }
   ],
   "source": [
    "payment_df = payment_rdd.toDF([\"documentCurrency\",\"documentNumber\",\"paymentDate\", \"valuePaid\"])\n",
    "payment_df.printSchema()"
   ]
  },
  {
   "cell_type": "code",
   "execution_count": 48,
   "id": "a8fb7d82-2aa1-4b8e-b733-808209d70737",
   "metadata": {},
   "outputs": [],
   "source": [
    "absolute_path = \"/tmp/my_parquet_data\"\n",
    "invoice_df.write.format('parquet').mode('overwrite').save(absolute_path)"
   ]
  },
  {
   "cell_type": "code",
   "execution_count": 12,
   "id": "e283f5cd-e555-4422-8691-b123feeb461f",
   "metadata": {},
   "outputs": [
    {
     "data": {
      "text/plain": [
       "Row(documentCurrency='CHF', documentNumber='2022-06012', paymentDate='2022-05-19', valuePaid=2169)"
      ]
     },
     "execution_count": 12,
     "metadata": {},
     "output_type": "execute_result"
    }
   ],
   "source": [
    "payment_df.first()"
   ]
  },
  {
   "cell_type": "code",
   "execution_count": 15,
   "id": "396110ee-6a99-4b3c-9d56-c56dab9fa6c8",
   "metadata": {},
   "outputs": [
    {
     "name": "stdout",
     "output_type": "stream",
     "text": [
      "+-----+-------------+----------------+--------------+---------------+----------+----------+-----------+---------+\n",
      "|value|   customerId|documentCurrency|documentNumber|documentService|   dueDate|fiscalYear|postingDate|totalPaid|\n",
      "+-----+-------------+----------------+--------------+---------------+----------+----------+-----------+---------+\n",
      "| 6048| Customer_197|             USD|    2022-00264|      Insurance|2022-01-24|      2022| 2022-01-06|     1996|\n",
      "|  517|Customer_6420|             EUR|    2022-00534|        Utility|2022-01-19|      2022| 2022-01-11|      459|\n",
      "| 9796|Customer_7227|             GBR|    2022-00609|      Insurance|2022-02-09|      2022| 2022-01-12|     NULL|\n",
      "| 3203|Customer_8294|             CHF|    2022-00651|      Insurance|2022-02-07|      2022| 2022-01-13|     2126|\n",
      "| 5353| Customer_673|             EUR|    2022-00826|      Insurance|2022-03-05|      2022| 2022-01-17|      151|\n",
      "| 8309| Customer_575|             USD|    2022-00892|           Rent|2022-02-04|      2022| 2022-01-18|     2979|\n",
      "| 7064| Customer_174|             EUR|    2022-00399|           Loan|2022-03-09|      2022| 2022-01-09|     4842|\n",
      "| 5288|Customer_3453|             USD|    2022-00633|           Rent|2022-01-31|      2022| 2022-01-13|     NULL|\n",
      "| 2974|Customer_3331|             USD|    2022-00740|           Rent|2022-01-23|      2022| 2022-01-15|      686|\n",
      "| 9269|Customer_3974|             JPY|    2022-00804|      Insurance|2022-01-21|      2022| 2022-01-16|     6921|\n",
      "| 9917|Customer_6693|             CHF|    2022-00856|      Insurance|2022-02-27|      2022| 2022-01-17|     9159|\n",
      "| 9568|Customer_5049|             GBR|    2022-00284|           Loan|2022-01-29|      2022| 2022-01-06|     NULL|\n",
      "| 2953|Customer_4752|             JPY|    2022-00966|           Rent|2022-01-26|      2022| 2022-01-19|     NULL|\n",
      "| 3941| Customer_202|             GBR|    2022-00163|           Rent|2022-02-08|      2022| 2022-01-04|     3164|\n",
      "| 6166| Customer_210|             JPY|    2022-00309|           Rent|2022-02-04|      2022| 2022-01-06|     4473|\n",
      "| 3860|Customer_3241|             USD|    2022-00415|           Loan|2022-01-11|      2022| 2022-01-09|     1732|\n",
      "| 2100|Customer_3679|             EUR|    2022-00627|            Tax|2022-01-26|      2022| 2022-01-13|     2093|\n",
      "| 2761|Customer_5775|             CHF|    2022-00692|           Rent|2022-03-14|      2022| 2022-01-14|      756|\n",
      "| 8812|Customer_2790|             JPY|    2022-00697|            Tax|2022-02-15|      2022| 2022-01-14|     NULL|\n",
      "|  392|Customer_1542|             JPY|    2022-00824|      Insurance|2022-03-08|      2022| 2022-01-17|      333|\n",
      "+-----+-------------+----------------+--------------+---------------+----------+----------+-----------+---------+\n",
      "only showing top 20 rows\n",
      "\n"
     ]
    }
   ],
   "source": [
    "# REPORT WHICH SHOWS THE UNPAID INVOICES\n",
    "\n",
    "from pyspark.sql import functions as F\n",
    "\n",
    "payment_sum_df = payment_df.groupBy(\"documentNumber\").agg(F.sum(\"valuePaid\").alias(\"totalPaid\"))\n",
    "\n",
    "joined_df = invoice_df.join(payment_sum_df, on=\"documentNumber\", how=\"left\")\n",
    "\n",
    "unpaid_invoices_df = joined_df.filter(joined_df[\"value\"] > F.coalesce(joined_df[\"totalPaid\"], F.lit(0)))\n",
    "\n",
    "result_df = unpaid_invoices_df.select(\"value\", \"customerId\", \"documentCurrency\", \"documentNumber\", \"documentService\", \"dueDate\", \"fiscalYear\", \"postingDate\", \"totalPaid\")\n",
    "\n",
    "result_df.show()"
   ]
  },
  {
   "cell_type": "code",
   "execution_count": null,
   "id": "422e5655-b3a8-4dac-9cd8-b1c69cc7eb06",
   "metadata": {},
   "outputs": [],
   "source": []
  }
 ],
 "metadata": {
  "kernelspec": {
   "display_name": "Python 3 (ipykernel)",
   "language": "python",
   "name": "python3"
  },
  "language_info": {
   "codemirror_mode": {
    "name": "ipython",
    "version": 3
   },
   "file_extension": ".py",
   "mimetype": "text/x-python",
   "name": "python",
   "nbconvert_exporter": "python",
   "pygments_lexer": "ipython3",
   "version": "3.11.2"
  }
 },
 "nbformat": 4,
 "nbformat_minor": 5
}
