{
 "cells": [
  {
   "cell_type": "code",
   "execution_count": 1,
   "id": "bcb02340",
   "metadata": {},
   "outputs": [
    {
     "name": "stdout",
     "output_type": "stream",
     "text": [
      "Bucket 'assignment2' already exists\n"
     ]
    }
   ],
   "source": [
    "from minio import Minio\n",
    "from minio.error import S3Error\n",
    "\n",
    "minio_client = Minio(\n",
    "    \"127.0.0.1:9000\", \n",
    "    access_key=\"5QXDQgNpRpaQGoZnIqTO\",\n",
    "    secret_key=\"6ciZe6CEapuhXloljqY8CtutN1Y1gd6zwRfscOKm\",\n",
    "    secure=False  # You can set it to True if you use HTTPS\n",
    ")\n",
    "\n",
    "found = minio_client.bucket_exists(\"assignment2\")\n",
    "if not found:\n",
    "    minio_client.make_bucket(\"assignment2\")\n",
    "else:\n",
    "    print(\"Bucket 'assignment2' already exists\")"
   ]
  },
  {
   "cell_type": "code",
   "execution_count": 3,
   "id": "dd62e9d7",
   "metadata": {},
   "outputs": [
    {
     "name": "stdout",
     "output_type": "stream",
     "text": [
      "Uploaded: .part-00000-c6c0ab05-582b-425c-af8e-572a2e0d9440-c000.snappy.parquet.crc\n",
      "Uploaded: .part-00001-c6c0ab05-582b-425c-af8e-572a2e0d9440-c000.snappy.parquet.crc\n",
      "Uploaded: .part-00002-c6c0ab05-582b-425c-af8e-572a2e0d9440-c000.snappy.parquet.crc\n",
      "Uploaded: .part-00003-c6c0ab05-582b-425c-af8e-572a2e0d9440-c000.snappy.parquet.crc\n",
      "Uploaded: .part-00004-c6c0ab05-582b-425c-af8e-572a2e0d9440-c000.snappy.parquet.crc\n",
      "Uploaded: .part-00005-c6c0ab05-582b-425c-af8e-572a2e0d9440-c000.snappy.parquet.crc\n",
      "Uploaded: .part-00006-c6c0ab05-582b-425c-af8e-572a2e0d9440-c000.snappy.parquet.crc\n",
      "Uploaded: .part-00007-c6c0ab05-582b-425c-af8e-572a2e0d9440-c000.snappy.parquet.crc\n",
      "Uploaded: ._SUCCESS.crc\n",
      "Uploaded: part-00000-c6c0ab05-582b-425c-af8e-572a2e0d9440-c000.snappy.parquet\n",
      "Uploaded: part-00001-c6c0ab05-582b-425c-af8e-572a2e0d9440-c000.snappy.parquet\n",
      "Uploaded: part-00002-c6c0ab05-582b-425c-af8e-572a2e0d9440-c000.snappy.parquet\n",
      "Uploaded: part-00003-c6c0ab05-582b-425c-af8e-572a2e0d9440-c000.snappy.parquet\n",
      "Uploaded: part-00004-c6c0ab05-582b-425c-af8e-572a2e0d9440-c000.snappy.parquet\n",
      "Uploaded: part-00005-c6c0ab05-582b-425c-af8e-572a2e0d9440-c000.snappy.parquet\n",
      "Uploaded: part-00006-c6c0ab05-582b-425c-af8e-572a2e0d9440-c000.snappy.parquet\n",
      "Uploaded: part-00007-c6c0ab05-582b-425c-af8e-572a2e0d9440-c000.snappy.parquet\n",
      "Uploaded: _SUCCESS\n"
     ]
    }
   ],
   "source": [
    "import os \n",
    "source_folder = \"C:/Users/90545/Documents/Data engineering/Assignment 2/my_parquet_data\"\n",
    "\n",
    "minio_bucket = \"assignment2\"\n",
    "\n",
    "for root, dirs, files in os.walk(source_folder):\n",
    "    for file in files:\n",
    "        file_path = os.path.join(root, file)\n",
    "        object_name = os.path.relpath(file_path, source_folder) \n",
    "\n",
    "        try:\n",
    "            minio_client.fput_object(minio_bucket, object_name, file_path)\n",
    "            print(f\"Uploaded: {object_name}\")\n",
    "        except S3Error as e:\n",
    "            print(f\"Error uploading {object_name}: {e}\")\n"
   ]
  },
  {
   "cell_type": "code",
   "execution_count": null,
   "id": "f8370fbf",
   "metadata": {},
   "outputs": [],
   "source": []
  }
 ],
 "metadata": {
  "kernelspec": {
   "display_name": "Python 3 (ipykernel)",
   "language": "python",
   "name": "python3"
  },
  "language_info": {
   "codemirror_mode": {
    "name": "ipython",
    "version": 3
   },
   "file_extension": ".py",
   "mimetype": "text/x-python",
   "name": "python",
   "nbconvert_exporter": "python",
   "pygments_lexer": "ipython3",
   "version": "3.11.2"
  }
 },
 "nbformat": 4,
 "nbformat_minor": 5
}
